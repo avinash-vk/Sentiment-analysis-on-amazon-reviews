{
  "nbformat": 4,
  "nbformat_minor": 0,
  "metadata": {
    "colab": {
      "name": "datacleaning.ipynb",
      "provenance": [],
      "mount_file_id": "1yEE3nJxFnwr9dfFPWNnpAzwfmunLcD6U",
      "authorship_tag": "ABX9TyMlOYwtqVWdE9q259eSdAPA",
      "include_colab_link": true
    },
    "kernelspec": {
      "name": "python3",
      "display_name": "Python 3"
    }
  },
  "cells": [
    {
      "cell_type": "markdown",
      "metadata": {
        "id": "view-in-github",
        "colab_type": "text"
      },
      "source": [
        "<a href=\"https://colab.research.google.com/github/avinash-vk/Sentiment-analysis-on-amazon-reviews/blob/main/datacleaning.ipynb\" target=\"_parent\"><img src=\"https://colab.research.google.com/assets/colab-badge.svg\" alt=\"Open In Colab\"/></a>"
      ]
    },
    {
      "cell_type": "markdown",
      "metadata": {
        "id": "LBzT_lii49Eb"
      },
      "source": [
        "**Importing libraries**"
      ]
    },
    {
      "cell_type": "code",
      "metadata": {
        "colab": {
          "base_uri": "https://localhost:8080/"
        },
        "id": "UQ8XIbU8w8VY",
        "outputId": "1a409cd3-cf27-4757-bfd0-dff43dbf0ebd"
      },
      "source": [
        "#imports\n",
        "\n",
        "import pandas as pd\n",
        "import numpy as np\n",
        "\n",
        "from nltk.corpus import stopwords\n",
        "from nltk.stem import PorterStemmer\n",
        "\n",
        "import nltk\n",
        "import re\n",
        "import string\n",
        "nltk.download(\"stopwords\")"
      ],
      "execution_count": null,
      "outputs": [
        {
          "output_type": "stream",
          "text": [
            "[nltk_data] Downloading package stopwords to /root/nltk_data...\n",
            "[nltk_data]   Package stopwords is already up-to-date!\n"
          ],
          "name": "stdout"
        },
        {
          "output_type": "execute_result",
          "data": {
            "text/plain": [
              "True"
            ]
          },
          "metadata": {
            "tags": []
          },
          "execution_count": 13
        }
      ]
    },
    {
      "cell_type": "markdown",
      "metadata": {
        "id": "LzKI7jQZ2PvO"
      },
      "source": [
        "**Dataframe preprocessing**"
      ]
    },
    {
      "cell_type": "code",
      "metadata": {
        "id": "ebWFRKsC16Ov"
      },
      "source": [
        "# splits review rating into different classes, say positive(2), neutral(1) and negative(0). \n",
        "def classify(x):\n",
        "    if x == 5.0 or x==4.0:\n",
        "        return 2\n",
        "    if x==3.0:\n",
        "        return 1 \n",
        "    return 0"
      ],
      "execution_count": null,
      "outputs": []
    },
    {
      "cell_type": "code",
      "metadata": {
        "id": "23A6HUO-2NnF"
      },
      "source": [
        "def clean_dataframe(df):\n",
        "  # creates new column with corresponding class labels, the output variable.\n",
        "  df['y'] = df['overall'].apply(classify)\n",
        "\n",
        "  # dropping uneccesary columns for the analysis\n",
        "  df = df.drop(labels=['Unnamed: 0', 'verified','asin' ,'style','reviewerName',  'description','title', 'rank', 'main_cat' ],axis=1)\n",
        "  \n",
        "  # dropping all NaN values from the column reviewText\n",
        "  df = df.dropna(axis=0, subset=['reviewText'])\n",
        "  return df"
      ],
      "execution_count": null,
      "outputs": []
    },
    {
      "cell_type": "markdown",
      "metadata": {
        "id": "3CrW9_O83Iim"
      },
      "source": [
        "**Text Preprocessing**"
      ]
    },
    {
      "cell_type": "code",
      "metadata": {
        "id": "Z_3O3NUC26wI"
      },
      "source": [
        "# removes all the punctuations for the strings of reviewText, ie '!\"#$%&\\'()*+,-./:;<=>?@[\\\\]^_`{|}~'\n",
        "def remove_punctuation(text):\n",
        "    no_punct=[words for words in text if words not in string.punctuation]\n",
        "    words_wo_punct=''.join(no_punct)\n",
        "    return words_wo_punct"
      ],
      "execution_count": null,
      "outputs": []
    },
    {
      "cell_type": "code",
      "metadata": {
        "id": "wD-7wyXq3emK"
      },
      "source": [
        "def text_process(df):\n",
        "  # Removing all the punctuations from the words, and changing the words to lower case to maintain uniformity\n",
        "  df['reviewText']=df['reviewText'].apply(lambda x: remove_punctuation(x.lower()))\n",
        "  # stemming\n",
        "  stemmer = PorterStemmer()\n",
        "  # stop words are the words like \"the, I, our etc\"\n",
        "  words = stopwords.words(\"english\") \n",
        "  df['cleaned_reviews'] = df['reviewText'].apply(lambda x: \" \".join([stemmer.stem(i) for i in re.sub(\"[^a-zA-Z]\", \" \", x).split() if i not in words]).lower())\n",
        "  return df"
      ],
      "execution_count": null,
      "outputs": []
    },
    {
      "cell_type": "markdown",
      "metadata": {
        "id": "VUZMQhF34Tov"
      },
      "source": [
        "**Main process**\n"
      ]
    },
    {
      "cell_type": "code",
      "metadata": {
        "id": "76bIpv-z4gRK"
      },
      "source": [
        "def process_df(df):\n",
        "  df = clean_dataframe(df)\n",
        "  df = text_process(df)\n",
        "  return df"
      ],
      "execution_count": null,
      "outputs": []
    },
    {
      "cell_type": "code",
      "metadata": {
        "id": "1kVfMjPS4tvD"
      },
      "source": [
        "#dataset links source and destination\n",
        "\n",
        "URL_UNCLEAN = \"/content/drive/MyDrive/datasets fragmented/coldropDS-50k.csv\"\n",
        "URL_CLEAN = \"/content/drive/MyDrive/datasets fragmented/coldropDS-50k_cleaned.csv\""
      ],
      "execution_count": null,
      "outputs": []
    },
    {
      "cell_type": "code",
      "metadata": {
        "id": "D5wxhdAC5E6s"
      },
      "source": [
        "# reading dataset and writing cleaned version to it\n",
        "def main(URL_CLEAN=URL_CLEAN, URL_UNCLEAN=URL_UNCLEAN):\n",
        "  df_unclean = pd.read_csv(URL_UNCLEAN)\n",
        "  print(\"UNCLEANED DATASET HEAD:\\n\",df_unclean.head(),\"\\n\")\n",
        "\n",
        "  df_clean = process_df(df_unclean)\n",
        "  print(\"CLEANED DATASET HEAD:\\n\",df_clean.head(),\"\\n\")\n",
        "\n",
        "  #writing to dataframe\n",
        "  df_clean.to_csv(URL_CLEAN)"
      ],
      "execution_count": null,
      "outputs": []
    },
    {
      "cell_type": "code",
      "metadata": {
        "colab": {
          "base_uri": "https://localhost:8080/"
        },
        "id": "GjcaWgb86OEX",
        "outputId": "8e746183-3fcf-43ab-9a15-505a6cd48129"
      },
      "source": [
        "main()"
      ],
      "execution_count": null,
      "outputs": [
        {
          "output_type": "stream",
          "text": [
            "UNCLEANED DATASET HEAD:\n",
            "    Unnamed: 0  ...              main_cat\n",
            "0     4359171  ...  Home Audio & Theater\n",
            "1     3938786  ...        Camera & Photo\n",
            "2     6176764  ...       All Electronics\n",
            "3     1546547  ...       All Electronics\n",
            "4     3178737  ...       All Electronics\n",
            "\n",
            "[5 rows x 12 columns] \n",
            "\n",
            "CLEANED DATASET HEAD:\n",
            "    overall  ...                                    cleaned_reviews\n",
            "0      5.0  ...              love thing suppli batteri dead replac\n",
            "1      5.0  ...                      great valu good rang easi use\n",
            "2      5.0  ...          smallest thumb drive ever cant beat price\n",
            "3      5.0  ...  bought webcam mostli price fact logitech prett...\n",
            "4      5.0  ...  got mom she tech savvi set she problem one tim...\n",
            "\n",
            "[5 rows x 5 columns] \n",
            "\n"
          ],
          "name": "stdout"
        }
      ]
    },
    {
      "cell_type": "code",
      "metadata": {
        "id": "kBAgpjdd6Q27"
      },
      "source": [
        ""
      ],
      "execution_count": null,
      "outputs": []
    }
  ]
}