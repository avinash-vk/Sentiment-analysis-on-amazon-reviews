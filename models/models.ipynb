{
  "nbformat": 4,
  "nbformat_minor": 0,
  "metadata": {
    "colab": {
      "name": "models.ipynb",
      "provenance": [],
      "collapsed_sections": [],
      "mount_file_id": "13pSaleZNtwBrZT80YF_4U76f1TWUWq1w",
      "authorship_tag": "ABX9TyPrHY3ksMVoTqYon6VZrAos",
      "include_colab_link": true
    },
    "kernelspec": {
      "name": "python3",
      "display_name": "Python 3"
    }
  },
  "cells": [
    {
      "cell_type": "markdown",
      "metadata": {
        "id": "view-in-github",
        "colab_type": "text"
      },
      "source": [
        "<a href=\"https://colab.research.google.com/github/avinash-vk/Sentiment-analysis-on-amazon-reviews/blob/main/models.ipynb\" target=\"_parent\"><img src=\"https://colab.research.google.com/assets/colab-badge.svg\" alt=\"Open In Colab\"/></a>"
      ]
    },
    {
      "cell_type": "code",
      "metadata": {
        "id": "8K65cAUj1Q82"
      },
      "source": [
        "#Basic libraries\n",
        "import pandas as pd\n",
        "import numpy as np"
      ],
      "execution_count": null,
      "outputs": []
    },
    {
      "cell_type": "code",
      "metadata": {
        "colab": {
          "base_uri": "https://localhost:8080/"
        },
        "id": "YPuh5NeY2GQ2",
        "outputId": "e0ecb908-9bb9-4685-eba0-6f6a3e2adcde"
      },
      "source": [
        "#Libraries for Tokenization\n",
        "from sklearn.feature_extraction.text import CountVectorizer,TfidfTransformer,TfidfVectorizer\n",
        "#Libraries to implement Naive Bayes \n",
        "from sklearn.naive_bayes import MultinomialNB\n",
        "from sklearn.naive_bayes import ComplementNB\n",
        "from sklearn.naive_bayes import BernoulliNB\n",
        "#Libraries to implement and optimize Random Forest\n",
        "from sklearn.ensemble import RandomForestClassifier\n",
        "from sklearn.model_selection import GridSearchCV\n",
        "#To create Pipelines and select best feautures before passing through the model\n",
        "from sklearn.linear_model import SGDClassifier\n",
        "from sklearn.pipeline import Pipeline\n",
        "from sklearn.feature_selection import SelectKBest, chi2\n",
        "#Pre-processing and NLP libraries\n",
        "from nltk.corpus import stopwords\n",
        "from nltk.stem import PorterStemmer\n",
        "from nltk.tokenize import RegexpTokenizer\n",
        "nltk.download(\"stopwords\")\n",
        "import nltk\n",
        "import re\n",
        "import string\n",
        "#Visualization tools\n",
        "import seaborn as sns\n",
        "import matplotlib.pyplot as plt"
      ],
      "execution_count": null,
      "outputs": [
        {
          "output_type": "stream",
          "text": [
            "[nltk_data] Downloading package stopwords to /root/nltk_data...\n",
            "[nltk_data]   Package stopwords is already up-to-date!\n"
          ],
          "name": "stdout"
        }
      ]
    },
    {
      "cell_type": "code",
      "metadata": {
        "id": "J9LcQJGe2YmN"
      },
      "source": [
        "URL = \"/content/drive/MyDrive/datasets fragmented/coldropDS-50k_cleaned.csv\""
      ],
      "execution_count": null,
      "outputs": []
    },
    {
      "cell_type": "code",
      "metadata": {
        "id": "OYrQIjSWO7LT"
      },
      "source": [
        ""
      ],
      "execution_count": null,
      "outputs": []
    },
    {
      "cell_type": "code",
      "metadata": {
        "id": "kxVKNPAM2M7z"
      },
      "source": [
        "#Reading the dataset\n",
        "df = pd.DataFrame(pd.read_csv(URL))\n",
        "#Dropping Nan value rows pertaining to the Reviews\n",
        "df = df.dropna(axis=0,subset=['cleaned_reviews'])"
      ],
      "execution_count": null,
      "outputs": []
    },
    {
      "cell_type": "code",
      "metadata": {
        "colab": {
          "base_uri": "https://localhost:8080/",
          "height": 206
        },
        "id": "pSrH1h3Y3cXe",
        "outputId": "e961c6b9-f30d-4a78-a741-b2fc82f89078"
      },
      "source": [
        "#Displaying dataset sample for sake of clarity and readability\n",
        "df.head()"
      ],
      "execution_count": null,
      "outputs": [
        {
          "output_type": "execute_result",
          "data": {
            "text/html": [
              "<div>\n",
              "<style scoped>\n",
              "    .dataframe tbody tr th:only-of-type {\n",
              "        vertical-align: middle;\n",
              "    }\n",
              "\n",
              "    .dataframe tbody tr th {\n",
              "        vertical-align: top;\n",
              "    }\n",
              "\n",
              "    .dataframe thead th {\n",
              "        text-align: right;\n",
              "    }\n",
              "</style>\n",
              "<table border=\"1\" class=\"dataframe\">\n",
              "  <thead>\n",
              "    <tr style=\"text-align: right;\">\n",
              "      <th></th>\n",
              "      <th>Unnamed: 0</th>\n",
              "      <th>overall</th>\n",
              "      <th>reviewText</th>\n",
              "      <th>summary</th>\n",
              "      <th>y</th>\n",
              "      <th>cleaned_reviews</th>\n",
              "    </tr>\n",
              "  </thead>\n",
              "  <tbody>\n",
              "    <tr>\n",
              "      <th>0</th>\n",
              "      <td>0</td>\n",
              "      <td>5.0</td>\n",
              "      <td>love these things  the supplied batteries were...</td>\n",
              "      <td>Good headset Replaced batteries</td>\n",
              "      <td>2</td>\n",
              "      <td>love thing suppli batteri dead replac</td>\n",
              "    </tr>\n",
              "    <tr>\n",
              "      <th>1</th>\n",
              "      <td>1</td>\n",
              "      <td>5.0</td>\n",
              "      <td>great value good range and easy to use</td>\n",
              "      <td>Five Stars</td>\n",
              "      <td>2</td>\n",
              "      <td>great valu good rang easi use</td>\n",
              "    </tr>\n",
              "    <tr>\n",
              "      <th>2</th>\n",
              "      <td>2</td>\n",
              "      <td>5.0</td>\n",
              "      <td>smallest thumb drive ever cant beat the price</td>\n",
              "      <td>Five Stars</td>\n",
              "      <td>2</td>\n",
              "      <td>smallest thumb drive ever cant beat price</td>\n",
              "    </tr>\n",
              "    <tr>\n",
              "      <th>3</th>\n",
              "      <td>3</td>\n",
              "      <td>5.0</td>\n",
              "      <td>i bought this webcam mostly because of the pri...</td>\n",
              "      <td>Not a bad webcam for the price.</td>\n",
              "      <td>2</td>\n",
              "      <td>bought webcam mostli price fact logitech prett...</td>\n",
              "    </tr>\n",
              "    <tr>\n",
              "      <th>4</th>\n",
              "      <td>4</td>\n",
              "      <td>5.0</td>\n",
              "      <td>i got this for my mom  shes not the most tech ...</td>\n",
              "      <td>Good webcam</td>\n",
              "      <td>2</td>\n",
              "      <td>got mom she tech savvi set she problem one tim...</td>\n",
              "    </tr>\n",
              "  </tbody>\n",
              "</table>\n",
              "</div>"
            ],
            "text/plain": [
              "   Unnamed: 0  overall  ...  y                                    cleaned_reviews\n",
              "0           0      5.0  ...  2              love thing suppli batteri dead replac\n",
              "1           1      5.0  ...  2                      great valu good rang easi use\n",
              "2           2      5.0  ...  2          smallest thumb drive ever cant beat price\n",
              "3           3      5.0  ...  2  bought webcam mostli price fact logitech prett...\n",
              "4           4      5.0  ...  2  got mom she tech savvi set she problem one tim...\n",
              "\n",
              "[5 rows x 6 columns]"
            ]
          },
          "metadata": {
            "tags": []
          },
          "execution_count": 5
        }
      ]
    },
    {
      "cell_type": "code",
      "metadata": {
        "id": "q-TqWT696FzP"
      },
      "source": [
        "#Tokenization methods to break down text into tokens(words)\n",
        "#Using TF-IDF with ngram range of (1,1)\n",
        "tfidf_vectorizer = TfidfVectorizer(min_df= 3, sublinear_tf=True, norm='l2', ngram_range=(1,1))\n",
        "#Using Bag of Words with ngram range of (1,1)\n",
        "counter_vectorizer = CountVectorizer(ngram_range=(1,1))"
      ],
      "execution_count": null,
      "outputs": []
    },
    {
      "cell_type": "code",
      "metadata": {
        "id": "YTXyTdT56NYR"
      },
      "source": [
        "#Seperating test-train with standard 80-20 split\n",
        "msk = np.random.rand(len(df)) < 0.8\n",
        "df_train = df[msk]\n",
        "df_test = df[~msk]\n",
        "X_train_class = df_train[\"cleaned_reviews\"]\n",
        "Y_train_class = df_train[\"y\"]\n",
        "X_test_class = df_test[\"cleaned_reviews\"]\n",
        "Y_test_class = df_test[\"y\"]\n"
      ],
      "execution_count": null,
      "outputs": []
    },
    {
      "cell_type": "code",
      "metadata": {
        "id": "pjawTBUv7xR1"
      },
      "source": [
        "#Creating Model Pipelines for various models with the pattern [Tokenizer Method][SelectKBest features][Model+Paramaters]\n",
        "text_clf_classifier1 = Pipeline([('vect', counter_vectorizer),('chi',  SelectKBest(chi2, k=1200)),('clf', RandomForestClassifier()),])\n",
        "#text_clf_classifier1 = Pipeline([('vect', counter_vectorizer),('chi',  SelectKBest(chi2, k=1200)),('clf', RandomForestClassifier(criterion='entropy')),])\n",
        "text_clf_classifier2 = Pipeline([('vect', counter_vectorizer),('chi',  SelectKBest(chi2, k=2890)),('clf', MultinomialNB(alpha=11)),])\n",
        "text_clf_classifier3 = Pipeline([('vect', counter_vectorizer),('chi',  SelectKBest(chi2, k=2890)),('clf', ComplementNB(alpha=11)),])\n",
        "text_clf_classifier4 = Pipeline([('vect', counter_vectorizer),('chi',  SelectKBest(chi2, k=2890)),('clf', BernoulliNB(alpha=11)),])\n",
        "text_clf_classifier5 = Pipeline([('vect', counter_vectorizer),('chi',  SelectKBest(chi2, k=1800)),('clf', SGDClassifier(alpha=0.00001)),])\n",
        "text_clf_classifier6 = Pipeline([('vect', counter_vectorizer),('chi',  SelectKBest(chi2, k=1800)),('clf', SGDClassifier(alpha=0.00001,loss='log')),])"
      ],
      "execution_count": null,
      "outputs": []
    },
    {
      "cell_type": "code",
      "metadata": {
        "id": "eUIy3RvWDH7C"
      },
      "source": [
        "#Function to execute and run Model Pipelines and display Model Paramaters used along with Accuracy\n",
        "def run_model(text_clf_classifier):\n",
        "  print(text_clf_classifier)\n",
        "  classifier_model = text_clf_classifier.fit(X_train_class,Y_train_class)\n",
        "  print(np.mean(classifier_model.predict(X_test_class)== Y_test_class))"
      ],
      "execution_count": null,
      "outputs": []
    },
    {
      "cell_type": "markdown",
      "metadata": {
        "id": "19id-5JxOVNp"
      },
      "source": [
        "Random Forest Classifier Paramteres tuned ->\n",
        "\n",
        "*   No of estimators - No. of trees - 100,\n",
        "*   Information Gain criteria - Entropy & Gini Index : Gini Index gives better accuracy.\n",
        "*Cost complexity pruning paramter - 0.0(No pruning)\n"
      ]
    },
    {
      "cell_type": "code",
      "metadata": {
        "colab": {
          "base_uri": "https://localhost:8080/"
        },
        "id": "e4THKvGW76wd",
        "outputId": "e87848d3-ab2d-441f-def4-6521a5a0a088"
      },
      "source": [
        "print(\"Random Forest Classifier - Count Vectorizer:\")\n",
        "run_model(text_clf_classifier1)"
      ],
      "execution_count": null,
      "outputs": [
        {
          "output_type": "stream",
          "text": [
            "Random Forest Classifier - Count Vectorizer:\n",
            "Pipeline(memory=None,\n",
            "         steps=[('vect',\n",
            "                 CountVectorizer(analyzer='word', binary=False,\n",
            "                                 decode_error='strict',\n",
            "                                 dtype=<class 'numpy.int64'>, encoding='utf-8',\n",
            "                                 input='content', lowercase=True, max_df=1.0,\n",
            "                                 max_features=None, min_df=1,\n",
            "                                 ngram_range=(1, 1), preprocessor=None,\n",
            "                                 stop_words=None, strip_accents=None,\n",
            "                                 token_pattern='(?u)\\\\b\\\\w\\\\w+\\\\b',\n",
            "                                 tokenizer=None, vocabulary=Non...\n",
            "                 RandomForestClassifier(bootstrap=True, ccp_alpha=0.0,\n",
            "                                        class_weight=None, criterion='gini',\n",
            "                                        max_depth=None, max_features='auto',\n",
            "                                        max_leaf_nodes=None, max_samples=None,\n",
            "                                        min_impurity_decrease=0.0,\n",
            "                                        min_impurity_split=None,\n",
            "                                        min_samples_leaf=1, min_samples_split=2,\n",
            "                                        min_weight_fraction_leaf=0.0,\n",
            "                                        n_estimators=100, n_jobs=None,\n",
            "                                        oob_score=False, random_state=None,\n",
            "                                        verbose=0, warm_start=False))],\n",
            "         verbose=False)\n",
            "0.8306218185447649\n"
          ],
          "name": "stdout"
        }
      ]
    },
    {
      "cell_type": "markdown",
      "metadata": {
        "id": "IXC3M2W_mB7B"
      },
      "source": [
        "Naive Bayes methods\n",
        "* Learning Rate Variants : 0.0001,0.001,0.01,0.1,1,3,5,8,11,13,15\n",
        "* Best Results were given by alpha=11 for Counter Vectorizer for Tokenization"
      ]
    },
    {
      "cell_type": "code",
      "metadata": {
        "id": "90aNUkDToVOs"
      },
      "source": [
        "#Running Multinomial Naive Bayes - Counter Vertorizer for variety of learning rates to best estimate hyperparameter value\n",
        "x_alpha=[0.0001,0.001,0.01,0.1,1,3,5,8,11,13,15]\n",
        "y_accuracy=[]\n",
        "for x in x_alpha:\n",
        "  clf = Pipeline([('vect', counter_vectorizer),('chi',  SelectKBest(chi2, k=2890)),('clf', MultinomialNB(alpha=x)),])\n",
        "  classifier_model = clf.fit(X_train_class,Y_train_class)\n",
        "  y_accuracy.append(np.mean(classifier_model.predict(X_test_class)== Y_test_class))\n"
      ],
      "execution_count": null,
      "outputs": []
    },
    {
      "cell_type": "code",
      "metadata": {
        "colab": {
          "base_uri": "https://localhost:8080/",
          "height": 297
        },
        "id": "998T9Y8kpuww",
        "outputId": "e099b3c4-efac-4787-d3b2-dc268c4ad7ed"
      },
      "source": [
        "plt.plot(x_alpha,y_accuracy,'^k')\n",
        "plt.ylabel('Accuracies')\n",
        "plt.xlabel('Learning Rate')\n",
        "plt.show()\n",
        "print(y_accuracy)"
      ],
      "execution_count": null,
      "outputs": [
        {
          "output_type": "display_data",
          "data": {
            "image/png": "[encoded data removed]",
            "text/plain": [
              "<Figure size 432x288 with 1 Axes>"
            ]
          },
          "metadata": {
            "tags": [],
            "needs_background": "light"
          }
        },
        {
          "output_type": "stream",
          "text": [
            "[0.8122567122467312, 0.8127557640483082, 0.8133546262102006, 0.8150514023355624, 0.8192434374688092, 0.8234354726020561, 0.8264297834115181, 0.8270286455734105, 0.827128455933726, 0.8255314901686795, 0.8225371793592174]\n"
          ],
          "name": "stdout"
        }
      ]
    },
    {
      "cell_type": "code",
      "metadata": {
        "colab": {
          "base_uri": "https://localhost:8080/"
        },
        "id": "q8DOC-tRE2FB",
        "outputId": "f9bffe05-81b1-47da-8852-08fc6b47c79d"
      },
      "source": [
        "print(\"Multinomial Naive Bayes - Count Vectorizer:\")\n",
        "run_model(text_clf_classifier2)"
      ],
      "execution_count": null,
      "outputs": [
        {
          "output_type": "stream",
          "text": [
            "Multinomial Naive Bayes - Count Vectorizer:\n",
            "Pipeline(memory=None,\n",
            "         steps=[('vect',\n",
            "                 CountVectorizer(analyzer='word', binary=False,\n",
            "                                 decode_error='strict',\n",
            "                                 dtype=<class 'numpy.int64'>, encoding='utf-8',\n",
            "                                 input='content', lowercase=True, max_df=1.0,\n",
            "                                 max_features=None, min_df=1,\n",
            "                                 ngram_range=(1, 1), preprocessor=None,\n",
            "                                 stop_words=None, strip_accents=None,\n",
            "                                 token_pattern='(?u)\\\\b\\\\w\\\\w+\\\\b',\n",
            "                                 tokenizer=None, vocabulary=None)),\n",
            "                ('chi',\n",
            "                 SelectKBest(k=2890,\n",
            "                             score_func=<function chi2 at 0x7fc3034e11e0>)),\n",
            "                ('clf',\n",
            "                 MultinomialNB(alpha=11, class_prior=None, fit_prior=True))],\n",
            "         verbose=False)\n",
            "0.827128455933726\n"
          ],
          "name": "stdout"
        }
      ]
    },
    {
      "cell_type": "code",
      "metadata": {
        "colab": {
          "base_uri": "https://localhost:8080/"
        },
        "id": "qc0WDSR9HJWq",
        "outputId": "a5f67b87-1277-4de6-80ed-c1c1cefce637"
      },
      "source": [
        "print(\"Complement Naive Bayes - Count Vectorizer:\")\n",
        "run_model(text_clf_classifier3)"
      ],
      "execution_count": null,
      "outputs": [
        {
          "output_type": "stream",
          "text": [
            "Complement Naive Bayes - Count Vectorizer:\n",
            "Pipeline(memory=None,\n",
            "         steps=[('vect',\n",
            "                 CountVectorizer(analyzer='word', binary=False,\n",
            "                                 decode_error='strict',\n",
            "                                 dtype=<class 'numpy.int64'>, encoding='utf-8',\n",
            "                                 input='content', lowercase=True, max_df=1.0,\n",
            "                                 max_features=None, min_df=1,\n",
            "                                 ngram_range=(1, 1), preprocessor=None,\n",
            "                                 stop_words=None, strip_accents=None,\n",
            "                                 token_pattern='(?u)\\\\b\\\\w\\\\w+\\\\b',\n",
            "                                 tokenizer=None, vocabulary=None)),\n",
            "                ('chi',\n",
            "                 SelectKBest(k=2890,\n",
            "                             score_func=<function chi2 at 0x7fc3034e11e0>)),\n",
            "                ('clf',\n",
            "                 ComplementNB(alpha=8, class_prior=None, fit_prior=True,\n",
            "                              norm=False))],\n",
            "         verbose=False)\n",
            "0.8115580397245235\n"
          ],
          "name": "stdout"
        }
      ]
    },
    {
      "cell_type": "code",
      "metadata": {
        "colab": {
          "base_uri": "https://localhost:8080/"
        },
        "id": "SZO66qclHJoD",
        "outputId": "b8f63f56-5e24-40f2-f0fa-5ef3962e0366"
      },
      "source": [
        "print(\"Bernoulli Naive Bayes - Count Vectorizer:\")\n",
        "run_model(text_clf_classifier4)"
      ],
      "execution_count": null,
      "outputs": [
        {
          "output_type": "stream",
          "text": [
            "Bernoulli Naive Bayes - Count Vectorizer:\n",
            "Pipeline(memory=None,\n",
            "         steps=[('vect',\n",
            "                 CountVectorizer(analyzer='word', binary=False,\n",
            "                                 decode_error='strict',\n",
            "                                 dtype=<class 'numpy.int64'>, encoding='utf-8',\n",
            "                                 input='content', lowercase=True, max_df=1.0,\n",
            "                                 max_features=None, min_df=1,\n",
            "                                 ngram_range=(1, 1), preprocessor=None,\n",
            "                                 stop_words=None, strip_accents=None,\n",
            "                                 token_pattern='(?u)\\\\b\\\\w\\\\w+\\\\b',\n",
            "                                 tokenizer=None, vocabulary=None)),\n",
            "                ('chi',\n",
            "                 SelectKBest(k=2890,\n",
            "                             score_func=<function chi2 at 0x7fc3034e11e0>)),\n",
            "                ('clf',\n",
            "                 BernoulliNB(alpha=8, binarize=0.0, class_prior=None,\n",
            "                             fit_prior=True))],\n",
            "         verbose=False)\n",
            "0.7545663239844296\n"
          ],
          "name": "stdout"
        }
      ]
    },
    {
      "cell_type": "markdown",
      "metadata": {
        "id": "Il2NGyv_1QXb"
      },
      "source": [
        "Stochastic Gradient methods\n",
        "* Learning Rate Variants : 0.000001,0.000004,0.000006,0.000008,0.00001,0.000012,0.000013,0.000014,0.000015,0.000016,0.000017,0.000018,0.00002,0.00003\n",
        "* Best Results were given by alpha=0.00001 for TD-IDF for Tokenization"
      ]
    },
    {
      "cell_type": "code",
      "metadata": {
        "id": "ee8iq4kFwR_i"
      },
      "source": [
        "#Running SDGClassifier - Linear SVM for variety of learning rates to best estimate hyperparameter value\n",
        "x_alpha=[0.000001,0.000004,0.000006,0.000008,0.00001,0.000012,0.000013,0.000014,0.000015,0.000016,0.000017,0.000018,0.00002,0.00003]\n",
        "y_accuracy=[]\n",
        "for x in x_alpha:\n",
        "  clf = Pipeline([('vect', tfidf_vectorizer),('chi',  SelectKBest(chi2, k=2890)),('clf', SGDClassifier(alpha=x)),])\n",
        "  classifier_model = clf.fit(X_train_class,Y_train_class)\n",
        "  y_accuracy.append(np.mean(classifier_model.predict(X_test_class)== Y_test_class))"
      ],
      "execution_count": null,
      "outputs": []
    },
    {
      "cell_type": "code",
      "metadata": {
        "colab": {
          "base_uri": "https://localhost:8080/",
          "height": 317
        },
        "id": "zZ9Xhix9xCVa",
        "outputId": "1bcc2640-04d0-4086-f6c9-bb8502030c03"
      },
      "source": [
        "plt.plot(x_alpha,y_accuracy,'^k')\n",
        "plt.ylabel('Accuracies')\n",
        "plt.xlabel('Learning Rate')\n",
        "plt.show()\n",
        "print(y_accuracy)"
      ],
      "execution_count": null,
      "outputs": [
        {
          "output_type": "display_data",
          "data": {
            "image/png": "[encoded data removed]",
            "text/plain": [
              "<Figure size 432x288 with 1 Axes>"
            ]
          },
          "metadata": {
            "tags": [],
            "needs_background": "light"
          }
        },
        {
          "output_type": "stream",
          "text": [
            "[0.841600958179459, 0.8462920451142829, 0.8482882523205909, 0.8491865455634294, 0.8495857870046911, 0.8491865455634294, 0.8486874937618525, 0.8476893901586985, 0.8483880626809063, 0.8489869248427987, 0.8478890108793292, 0.8481884419602754, 0.8478890108793292, 0.8470905279968061]\n"
          ],
          "name": "stdout"
        }
      ]
    },
    {
      "cell_type": "code",
      "metadata": {
        "colab": {
          "base_uri": "https://localhost:8080/"
        },
        "id": "BF2Gyj0sE2Rr",
        "outputId": "16a8c6eb-4855-44fa-fe0a-f6f3bfda931f"
      },
      "source": [
        "print(\"SGDClassifier SVM : - Count Vectorizer\")\n",
        "run_model(text_clf_classifier5)"
      ],
      "execution_count": null,
      "outputs": [
        {
          "output_type": "stream",
          "text": [
            "SGDClassifier SVM : - Count Vectorizer\n",
            "Pipeline(memory=None,\n",
            "         steps=[('vect',\n",
            "                 CountVectorizer(analyzer='word', binary=False,\n",
            "                                 decode_error='strict',\n",
            "                                 dtype=<class 'numpy.int64'>, encoding='utf-8',\n",
            "                                 input='content', lowercase=True, max_df=1.0,\n",
            "                                 max_features=None, min_df=1,\n",
            "                                 ngram_range=(1, 1), preprocessor=None,\n",
            "                                 stop_words=None, strip_accents=None,\n",
            "                                 token_pattern='(?u)\\\\b\\\\w\\\\w+\\\\b',\n",
            "                                 tokenizer=None, vocabulary=Non...\n",
            "                ('clf',\n",
            "                 SGDClassifier(alpha=1e-05, average=False, class_weight=None,\n",
            "                               early_stopping=False, epsilon=0.1, eta0=0.0,\n",
            "                               fit_intercept=True, l1_ratio=0.15,\n",
            "                               learning_rate='optimal', loss='hinge',\n",
            "                               max_iter=1000, n_iter_no_change=5, n_jobs=None,\n",
            "                               penalty='l2', power_t=0.5, random_state=None,\n",
            "                               shuffle=True, tol=0.001, validation_fraction=0.1,\n",
            "                               verbose=0, warm_start=False))],\n",
            "         verbose=False)\n",
            "0.8414013374588283\n"
          ],
          "name": "stdout"
        }
      ]
    },
    {
      "cell_type": "code",
      "metadata": {
        "colab": {
          "base_uri": "https://localhost:8080/"
        },
        "id": "2KU0UBJ0G-77",
        "outputId": "5d7b575a-147b-4b1b-fded-b0911b94ae5c"
      },
      "source": [
        "print(\"SGDClassifier Logistic Regression : - Count Vectorizer\")\n",
        "run_model(text_clf_classifier6)"
      ],
      "execution_count": null,
      "outputs": [
        {
          "output_type": "stream",
          "text": [
            "SGDClassifier Logistic Regression : - Count Vectorizer\n",
            "Pipeline(memory=None,\n",
            "         steps=[('vect',\n",
            "                 CountVectorizer(analyzer='word', binary=False,\n",
            "                                 decode_error='strict',\n",
            "                                 dtype=<class 'numpy.int64'>, encoding='utf-8',\n",
            "                                 input='content', lowercase=True, max_df=1.0,\n",
            "                                 max_features=None, min_df=1,\n",
            "                                 ngram_range=(1, 1), preprocessor=None,\n",
            "                                 stop_words=None, strip_accents=None,\n",
            "                                 token_pattern='(?u)\\\\b\\\\w\\\\w+\\\\b',\n",
            "                                 tokenizer=None, vocabulary=Non...\n",
            "                ('clf',\n",
            "                 SGDClassifier(alpha=1e-05, average=False, class_weight=None,\n",
            "                               early_stopping=False, epsilon=0.1, eta0=0.0,\n",
            "                               fit_intercept=True, l1_ratio=0.15,\n",
            "                               learning_rate='optimal', loss='log',\n",
            "                               max_iter=1000, n_iter_no_change=5, n_jobs=None,\n",
            "                               penalty='l2', power_t=0.5, random_state=None,\n",
            "                               shuffle=True, tol=0.001, validation_fraction=0.1,\n",
            "                               verbose=0, warm_start=False))],\n",
            "         verbose=False)\n",
            "0.8313204910669727\n"
          ],
          "name": "stdout"
        }
      ]
    },
    {
      "cell_type": "code",
      "metadata": {
        "id": "vaHYOIgCGk0U"
      },
      "source": [
        "#text_clf_classifier7 = Pipeline([('vect',tfidf_vectorizer),('chi',  SelectKBest(chi2, k=1200)),('clf', RandomForestClassifier()),])\n",
        "text_clf_classifier8 = Pipeline([('vect',tfidf_vectorizer),('chi',  SelectKBest(chi2, k=2890)),('clf', MultinomialNB(alpha=0.1)),])\n",
        "text_clf_classifier9 = Pipeline([('vect',tfidf_vectorizer),('chi',  SelectKBest(chi2, k=3000)),('clf', ComplementNB(alpha=0.1)),])\n",
        "text_clf_classifier10 = Pipeline([('vect',tfidf_vectorizer),('chi',  SelectKBest(chi2, k=2890)),('clf', BernoulliNB(alpha=0.1)),])\n",
        "text_clf_classifier11 = Pipeline([('vect',tfidf_vectorizer),('chi',  SelectKBest(chi2, k=1800)),('clf', SGDClassifier(alpha=0.00001)),])\n",
        "text_clf_classifier12 = Pipeline([('vect',tfidf_vectorizer),('chi',  SelectKBest(chi2, k=1800)),('clf', SGDClassifier(alpha=0.00001,loss='log')),])"
      ],
      "execution_count": null,
      "outputs": []
    },
    {
      "cell_type": "markdown",
      "metadata": {
        "id": "b3b7VAp-Q2rJ"
      },
      "source": [
        "Random Forest Classifier Paramteres tuned with the help og GridSearch ->\n",
        "\n",
        "*   No of estimators - No. of trees - 100,\n",
        "*   Information Gain criteria - Entropy & Gini Index : Gini Index gives better accuracy.\n",
        "*Cost complexity pruning paramter - 0.0(No pruning gives best results - could be because of overfitting),0.5,1\n",
        "\n",
        "> Indented block\n",
        "\n"
      ]
    },
    {
      "cell_type": "code",
      "metadata": {
        "id": "8BWyMTmdXk5G"
      },
      "source": [
        "#Creating sample training-test data to be passed to the GridSearch\n",
        "text_counts =tfidf_vectorizer.fit_transform(df['cleaned_reviews'])\n",
        "from sklearn.model_selection import train_test_split\n",
        "X_train, X_test, Y_train, Y_test = train_test_split(text_counts, df['y'], test_size=0.25, random_state=5)"
      ],
      "execution_count": null,
      "outputs": []
    },
    {
      "cell_type": "code",
      "metadata": {
        "colab": {
          "base_uri": "https://localhost:8080/"
        },
        "id": "cKZVHR78TsdM",
        "outputId": "86040f0e-8780-48da-f37e-886cf0bc22a9"
      },
      "source": [
        "from sklearn.model_selection import GridSearchCV# Create the parameter grid based on the results of random search \n",
        "param_grid = {\n",
        "    'bootstrap': [True],\n",
        "    'max_depth': [80, 90, 100, 110],\n",
        "    'max_features': [2, 3],\n",
        "    'min_samples_leaf': [3, 4, 5],\n",
        "    'min_samples_split': [8, 10, 12],\n",
        "    'n_estimators': [100, 200, 300, 1000]\n",
        "}# Create a based model\n",
        "rf = RandomForestClassifier()# Instantiate the grid search model\n",
        "grid_search = GridSearchCV(estimator = rf, param_grid = param_grid, \n",
        "                          cv = 2, n_jobs = -1, verbose = 2)\n",
        "grid_search.fit(X_train, Y_train)"
      ],
      "execution_count": null,
      "outputs": [
        {
          "output_type": "stream",
          "text": [
            "Fitting 2 folds for each of 288 candidates, totalling 576 fits\n"
          ],
          "name": "stdout"
        },
        {
          "output_type": "stream",
          "text": [
            "[Parallel(n_jobs=-1)]: Using backend LokyBackend with 2 concurrent workers.\n",
            "[Parallel(n_jobs=-1)]: Done  37 tasks      | elapsed:  1.2min\n",
            "[Parallel(n_jobs=-1)]: Done 158 tasks      | elapsed:  5.1min\n",
            "[Parallel(n_jobs=-1)]: Done 361 tasks      | elapsed: 11.8min\n",
            "[Parallel(n_jobs=-1)]: Done 576 out of 576 | elapsed: 18.9min finished\n"
          ],
          "name": "stderr"
        },
        {
          "output_type": "execute_result",
          "data": {
            "text/plain": [
              "GridSearchCV(cv=2, error_score=nan,\n",
              "             estimator=RandomForestClassifier(bootstrap=True, ccp_alpha=0.0,\n",
              "                                              class_weight=None,\n",
              "                                              criterion='gini', max_depth=None,\n",
              "                                              max_features='auto',\n",
              "                                              max_leaf_nodes=None,\n",
              "                                              max_samples=None,\n",
              "                                              min_impurity_decrease=0.0,\n",
              "                                              min_impurity_split=None,\n",
              "                                              min_samples_leaf=1,\n",
              "                                              min_samples_split=2,\n",
              "                                              min_weight_fraction_leaf=0.0,\n",
              "                                              n_estimators=100, n_jobs=None,\n",
              "                                              oob_score=False,\n",
              "                                              random_state=None, verbose=0,\n",
              "                                              warm_start=False),\n",
              "             iid='deprecated', n_jobs=-1,\n",
              "             param_grid={'bootstrap': [True], 'max_depth': [80, 90, 100, 110],\n",
              "                         'max_features': [2, 3], 'min_samples_leaf': [3, 4, 5],\n",
              "                         'min_samples_split': [8, 10, 12],\n",
              "                         'n_estimators': [100, 200, 300, 1000]},\n",
              "             pre_dispatch='2*n_jobs', refit=True, return_train_score=False,\n",
              "             scoring=None, verbose=2)"
            ]
          },
          "metadata": {
            "tags": []
          },
          "execution_count": 62
        }
      ]
    },
    {
      "cell_type": "code",
      "metadata": {
        "colab": {
          "base_uri": "https://localhost:8080/"
        },
        "id": "UUpAQSI-esNW",
        "outputId": "a9d016aa-cadc-4d46-c112-7651ac61f8f5"
      },
      "source": [
        "grid_search.best_estimator_"
      ],
      "execution_count": null,
      "outputs": [
        {
          "output_type": "execute_result",
          "data": {
            "text/plain": [
              "RandomForestClassifier(bootstrap=True, ccp_alpha=0.0, class_weight=None,\n",
              "                       criterion='gini', max_depth=80, max_features=2,\n",
              "                       max_leaf_nodes=None, max_samples=None,\n",
              "                       min_impurity_decrease=0.0, min_impurity_split=None,\n",
              "                       min_samples_leaf=3, min_samples_split=8,\n",
              "                       min_weight_fraction_leaf=0.0, n_estimators=100,\n",
              "                       n_jobs=None, oob_score=False, random_state=None,\n",
              "                       verbose=0, warm_start=False)"
            ]
          },
          "metadata": {
            "tags": []
          },
          "execution_count": 72
        }
      ]
    },
    {
      "cell_type": "code",
      "metadata": {
        "colab": {
          "base_uri": "https://localhost:8080/"
        },
        "id": "4uiopgkcJnaZ",
        "outputId": "24c7c0a0-1949-455c-9acc-613268845b4b"
      },
      "source": [
        "text_clf_classifier7 = Pipeline([('vect',tfidf_vectorizer),('chi',  SelectKBest(chi2, k=1200)),('clf', RandomForestClassifier(bootstrap=True, ccp_alpha=0.0,\n",
        "                       criterion='gini', \n",
        "                   n_estimators=100,max_depth=80)),])\n",
        "print(\"Random Forest Classifier - TDF-IDF Vectorizer:\")\n",
        "run_model(text_clf_classifier7)"
      ],
      "execution_count": null,
      "outputs": [
        {
          "output_type": "stream",
          "text": [
            "Pipeline(memory=None,\n",
            "         steps=[('vect',\n",
            "                 TfidfVectorizer(analyzer='word', binary=False,\n",
            "                                 decode_error='strict',\n",
            "                                 dtype=<class 'numpy.float64'>,\n",
            "                                 encoding='utf-8', input='content',\n",
            "                                 lowercase=True, max_df=1.0, max_features=None,\n",
            "                                 min_df=3, ngram_range=(1, 1), norm='l2',\n",
            "                                 preprocessor=None, smooth_idf=True,\n",
            "                                 stop_words=None, strip_accents=None,\n",
            "                                 sublinear_tf=True,\n",
            "                                 token_pattern='(?...\n",
            "                 RandomForestClassifier(bootstrap=True, ccp_alpha=0.0,\n",
            "                                        class_weight=None, criterion='gini',\n",
            "                                        max_depth=80, max_features='auto',\n",
            "                                        max_leaf_nodes=None, max_samples=None,\n",
            "                                        min_impurity_decrease=0.0,\n",
            "                                        min_impurity_split=None,\n",
            "                                        min_samples_leaf=1, min_samples_split=2,\n",
            "                                        min_weight_fraction_leaf=0.0,\n",
            "                                        n_estimators=100, n_jobs=None,\n",
            "                                        oob_score=False, random_state=None,\n",
            "                                        verbose=0, warm_start=False))],\n",
            "         verbose=False)\n",
            "Random Forest Classifier - TDF-IDF Vectorizer:\n",
            "0.8288252320590878\n"
          ],
          "name": "stdout"
        }
      ]
    },
    {
      "cell_type": "markdown",
      "metadata": {
        "id": "Nz7GNtNl03IY"
      },
      "source": [
        "Naive Bayes methods\n",
        "* Learning Rate Variants : 0.0001,0.001,0.01,0.1,1,3,5,8,11,13,15\n",
        "* Best Results were given by alpha=0.1 for TDF-IDF for Tokenization"
      ]
    },
    {
      "cell_type": "code",
      "metadata": {
        "id": "C68L1GcuruE_"
      },
      "source": [
        "#Running Multinomial Naive Bayes - TF-IDF Tokenizer for variety of learning rates to best estimate hyperparameter value\n",
        "x_alpha=[0.001,0.01,0.09,0.1,0.11,0.15,1,3,5,8,11,13,15]\n",
        "y_accuracy=[]\n",
        "for x in x_alpha:\n",
        "  clf = Pipeline([('vect', tfidf_vectorizer),('chi',  SelectKBest(chi2, k=2890)),('clf', MultinomialNB(alpha=x)),])\n",
        "  classifier_model = clf.fit(X_train_class,Y_train_class)\n",
        "  y_accuracy.append(np.mean(classifier_model.predict(X_test_class)== Y_test_class))"
      ],
      "execution_count": null,
      "outputs": []
    },
    {
      "cell_type": "code",
      "metadata": {
        "colab": {
          "base_uri": "https://localhost:8080/",
          "height": 317
        },
        "id": "jZTqyOQUr3TO",
        "outputId": "e556cb94-be7c-4f27-f19d-2830ba3710a9"
      },
      "source": [
        "plt.plot(x_alpha,y_accuracy,'^k')\n",
        "plt.ylabel('Accuracies')\n",
        "plt.xlabel('Learning Rate')\n",
        "plt.show()\n",
        "print(y_accuracy)"
      ],
      "execution_count": null,
      "outputs": [
        {
          "output_type": "display_data",
          "data": {
            "image/png": "[encoded data removed]",
            "text/plain": [
              "<Figure size 432x288 with 1 Axes>"
            ]
          },
          "metadata": {
            "tags": [],
            "needs_background": "light"
          }
        },
        {
          "output_type": "stream",
          "text": [
            "[0.8095618325182153, 0.8105599361213695, 0.8107595568420002, 0.8107595568420002, 0.810460125761054, 0.8101606946801078, 0.803473400538976, 0.786805070366304, 0.7772232757760256, 0.7692384469507935, 0.7667431879429085, 0.7659447050603853, 0.765645273979439]\n"
          ],
          "name": "stdout"
        }
      ]
    },
    {
      "cell_type": "code",
      "metadata": {
        "colab": {
          "base_uri": "https://localhost:8080/"
        },
        "id": "8lm7J1eYJnlu",
        "outputId": "5d63e1ac-51e5-48ae-ab83-3a85a342ad80"
      },
      "source": [
        "print(\"Multinomial Naive Bayes - TDF-IDF Vectorizer:\")\n",
        "run_model(text_clf_classifier8)"
      ],
      "execution_count": null,
      "outputs": [
        {
          "output_type": "stream",
          "text": [
            "Multinomial Naive Bayes - TDF-IDF Vectorizer:\n",
            "Pipeline(memory=None,\n",
            "         steps=[('vect',\n",
            "                 TfidfVectorizer(analyzer='word', binary=False,\n",
            "                                 decode_error='strict',\n",
            "                                 dtype=<class 'numpy.float64'>,\n",
            "                                 encoding='utf-8', input='content',\n",
            "                                 lowercase=True, max_df=1.0, max_features=None,\n",
            "                                 min_df=3, ngram_range=(1, 1), norm='l2',\n",
            "                                 preprocessor=None, smooth_idf=True,\n",
            "                                 stop_words=None, strip_accents=None,\n",
            "                                 sublinear_tf=True,\n",
            "                                 token_pattern='(?u)\\\\b\\\\w\\\\w+\\\\b',\n",
            "                                 tokenizer=None, use_idf=True,\n",
            "                                 vocabulary=None)),\n",
            "                ('chi',\n",
            "                 SelectKBest(k=2890,\n",
            "                             score_func=<function chi2 at 0x7fc3034e11e0>)),\n",
            "                ('clf',\n",
            "                 MultinomialNB(alpha=0.1, class_prior=None, fit_prior=True))],\n",
            "         verbose=False)\n",
            "0.8107595568420002\n"
          ],
          "name": "stdout"
        }
      ]
    },
    {
      "cell_type": "code",
      "metadata": {
        "colab": {
          "base_uri": "https://localhost:8080/"
        },
        "id": "1KwTX9JPJnw5",
        "outputId": "51bc807b-3f82-46cd-be6f-f1905e2213e0"
      },
      "source": [
        "print(\"Complement Naive Bayes - TDF-IDF Vectorizer:\")\n",
        "run_model(text_clf_classifier9)"
      ],
      "execution_count": null,
      "outputs": [
        {
          "output_type": "stream",
          "text": [
            "Complement Naive Bayes - TDF-IDF Vectorizer:\n",
            "Pipeline(memory=None,\n",
            "         steps=[('vect',\n",
            "                 TfidfVectorizer(analyzer='word', binary=False,\n",
            "                                 decode_error='strict',\n",
            "                                 dtype=<class 'numpy.float64'>,\n",
            "                                 encoding='utf-8', input='content',\n",
            "                                 lowercase=True, max_df=1.0, max_features=None,\n",
            "                                 min_df=3, ngram_range=(1, 1), norm='l2',\n",
            "                                 preprocessor=None, smooth_idf=True,\n",
            "                                 stop_words=None, strip_accents=None,\n",
            "                                 sublinear_tf=True,\n",
            "                                 token_pattern='(?u)\\\\b\\\\w\\\\w+\\\\b',\n",
            "                                 tokenizer=None, use_idf=True,\n",
            "                                 vocabulary=None)),\n",
            "                ('chi',\n",
            "                 SelectKBest(k=3000,\n",
            "                             score_func=<function chi2 at 0x7fc3034e11e0>)),\n",
            "                ('clf',\n",
            "                 ComplementNB(alpha=0.1, class_prior=None, fit_prior=True,\n",
            "                              norm=False))],\n",
            "         verbose=False)\n",
            "0.7805170176664338\n"
          ],
          "name": "stdout"
        }
      ]
    },
    {
      "cell_type": "code",
      "metadata": {
        "colab": {
          "base_uri": "https://localhost:8080/"
        },
        "id": "uTFlSqTdJn75",
        "outputId": "abfb3051-855d-4971-c2d2-574d749fba2d"
      },
      "source": [
        "print(\"Bernoulli Naive Bayes - TDF-IDF Vectorizer:\")\n",
        "run_model(text_clf_classifier10)"
      ],
      "execution_count": null,
      "outputs": [
        {
          "output_type": "stream",
          "text": [
            "Bernoulli Naive Bayes - TDF-IDF Vectorizer:\n",
            "Pipeline(memory=None,\n",
            "         steps=[('vect',\n",
            "                 TfidfVectorizer(analyzer='word', binary=False,\n",
            "                                 decode_error='strict',\n",
            "                                 dtype=<class 'numpy.float64'>,\n",
            "                                 encoding='utf-8', input='content',\n",
            "                                 lowercase=True, max_df=1.0, max_features=None,\n",
            "                                 min_df=3, ngram_range=(1, 1), norm='l2',\n",
            "                                 preprocessor=None, smooth_idf=True,\n",
            "                                 stop_words=None, strip_accents=None,\n",
            "                                 sublinear_tf=True,\n",
            "                                 token_pattern='(?u)\\\\b\\\\w\\\\w+\\\\b',\n",
            "                                 tokenizer=None, use_idf=True,\n",
            "                                 vocabulary=None)),\n",
            "                ('chi',\n",
            "                 SelectKBest(k=2890,\n",
            "                             score_func=<function chi2 at 0x7fc3034e11e0>)),\n",
            "                ('clf',\n",
            "                 BernoulliNB(alpha=0.1, binarize=0.0, class_prior=None,\n",
            "                             fit_prior=True))],\n",
            "         verbose=False)\n",
            "0.7420900289450045\n"
          ],
          "name": "stdout"
        }
      ]
    },
    {
      "cell_type": "code",
      "metadata": {
        "colab": {
          "base_uri": "https://localhost:8080/"
        },
        "id": "h7XTGn5IJoHO",
        "outputId": "811d2aa4-d98c-4539-b23f-43a95ad5257d"
      },
      "source": [
        "print(\"SGDClassifier SVM  - TDF-IDF Vectorizer:\")\n",
        "run_model(text_clf_classifier11)"
      ],
      "execution_count": null,
      "outputs": [
        {
          "output_type": "stream",
          "text": [
            "SGDClassifier SVM  - TDF-IDF Vectorizer:\n",
            "Pipeline(memory=None,\n",
            "         steps=[('vect',\n",
            "                 TfidfVectorizer(analyzer='word', binary=False,\n",
            "                                 decode_error='strict',\n",
            "                                 dtype=<class 'numpy.float64'>,\n",
            "                                 encoding='utf-8', input='content',\n",
            "                                 lowercase=True, max_df=1.0, max_features=None,\n",
            "                                 min_df=3, ngram_range=(1, 1), norm='l2',\n",
            "                                 preprocessor=None, smooth_idf=True,\n",
            "                                 stop_words=None, strip_accents=None,\n",
            "                                 sublinear_tf=True,\n",
            "                                 token_pattern='(?...\n",
            "                ('clf',\n",
            "                 SGDClassifier(alpha=1e-05, average=False, class_weight=None,\n",
            "                               early_stopping=False, epsilon=0.1, eta0=0.0,\n",
            "                               fit_intercept=True, l1_ratio=0.15,\n",
            "                               learning_rate='optimal', loss='hinge',\n",
            "                               max_iter=1000, n_iter_no_change=5, n_jobs=None,\n",
            "                               penalty='l2', power_t=0.5, random_state=None,\n",
            "                               shuffle=True, tol=0.001, validation_fraction=0.1,\n",
            "                               verbose=0, warm_start=False))],\n",
            "         verbose=False)\n",
            "0.8451941311508134\n"
          ],
          "name": "stdout"
        }
      ]
    },
    {
      "cell_type": "code",
      "metadata": {
        "colab": {
          "base_uri": "https://localhost:8080/"
        },
        "id": "B3Xm4cB3JoRv",
        "outputId": "c80e3c5c-0322-4bb1-f43d-12e7bf416b37"
      },
      "source": [
        "print(\"SGDClassifier Logistic Regression :TDF-IDF Vectorizer:\")\n",
        "run_model(text_clf_classifier12)"
      ],
      "execution_count": null,
      "outputs": [
        {
          "output_type": "stream",
          "text": [
            "SGDClassifier Logistic Regression :TDF-IDF Vectorizer:\n",
            "Pipeline(memory=None,\n",
            "         steps=[('vect',\n",
            "                 TfidfVectorizer(analyzer='word', binary=False,\n",
            "                                 decode_error='strict',\n",
            "                                 dtype=<class 'numpy.float64'>,\n",
            "                                 encoding='utf-8', input='content',\n",
            "                                 lowercase=True, max_df=1.0, max_features=None,\n",
            "                                 min_df=3, ngram_range=(1, 1), norm='l2',\n",
            "                                 preprocessor=None, smooth_idf=True,\n",
            "                                 stop_words=None, strip_accents=None,\n",
            "                                 sublinear_tf=True,\n",
            "                                 token_pattern='(?...\n",
            "                ('clf',\n",
            "                 SGDClassifier(alpha=1e-05, average=False, class_weight=None,\n",
            "                               early_stopping=False, epsilon=0.1, eta0=0.0,\n",
            "                               fit_intercept=True, l1_ratio=0.15,\n",
            "                               learning_rate='optimal', loss='log',\n",
            "                               max_iter=1000, n_iter_no_change=5, n_jobs=None,\n",
            "                               penalty='l2', power_t=0.5, random_state=None,\n",
            "                               shuffle=True, tol=0.001, validation_fraction=0.1,\n",
            "                               verbose=0, warm_start=False))],\n",
            "         verbose=False)\n",
            "0.8465914761952291\n"
          ],
          "name": "stdout"
        }
      ]
    },
    {
      "cell_type": "code",
      "metadata": {
        "id": "4-_IGHqJ8IZV"
      },
      "source": [
        "def prediction(review):\n",
        "  prediction_df = pd.DataFrame([[review,0]],columns = [\"reviewText\",\"y\"])\n",
        "  prediction_df = text_process(prediction_df)\n",
        "  classifier_prediction = classifier_model.predict(prediction_df[\"cleaned_reviews\"])\n",
        "  return classifier_prediction[0]"
      ],
      "execution_count": null,
      "outputs": []
    },
    {
      "cell_type": "code",
      "metadata": {
        "colab": {
          "base_uri": "https://localhost:8080/"
        },
        "id": "-BEhRkfi8yvV",
        "outputId": "7cfc7546-5466-43b6-f51d-6edc7550a7c4"
      },
      "source": [
        "prediction(\"works good, viewing angle critical for good picture. purchased for use in a rv so the size was perfect for the location\")"
      ],
      "execution_count": null,
      "outputs": [
        {
          "output_type": "execute_result",
          "data": {
            "text/plain": [
              "2"
            ]
          },
          "metadata": {
            "tags": []
          },
          "execution_count": 72
        }
      ]
    }
  ]
}
